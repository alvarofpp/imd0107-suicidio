{
 "cells": [
  {
   "cell_type": "markdown",
   "metadata": {},
   "source": [
    "# Data treatment\n",
    "Nessa seção, iremos filtrar os dados do arquivo CSV que geramos anteriormente em apenas os CIDs correspondentes a suicídio.\n"
   ]
  },
  {
   "cell_type": "code",
   "execution_count": 1,
   "metadata": {},
   "outputs": [],
   "source": [
    "# Imports\n",
    "import csv\n",
    "import json\n",
    "import pandas as pd"
   ]
  },
  {
   "cell_type": "code",
   "execution_count": 38,
   "metadata": {},
   "outputs": [],
   "source": [
    "# Dataset com os dados de suicídio de 2011 a 2015\n",
    "df_suicidio = pd.read_csv('data/suicidios.csv', sep=';', low_memory=False)"
   ]
  },
  {
   "cell_type": "code",
   "execution_count": 39,
   "metadata": {},
   "outputs": [
    {
     "name": "stdout",
     "output_type": "stream",
     "text": [
      "<class 'pandas.core.frame.DataFrame'>\n",
      "RangeIndex: 55639 entries, 0 to 55638\n",
      "Data columns (total 23 columns):\n",
      "DTOBITO       55639 non-null int64\n",
      "HORAOBITO     41549 non-null object\n",
      "DTNASC        55327 non-null float64\n",
      "IDADE         55639 non-null int64\n",
      "SEXO          55639 non-null int64\n",
      "RACACOR       53574 non-null float64\n",
      "ESTCIV        53598 non-null float64\n",
      "OCUP          41825 non-null float64\n",
      "CODMUNRES     55639 non-null int64\n",
      "LOCOCOR       55639 non-null int64\n",
      "CODMUNOCOR    55639 non-null int64\n",
      "IDADEMAE      8 non-null float64\n",
      "ESCMAE        8 non-null float64\n",
      "OCUPMAE       7 non-null float64\n",
      "QTDFILVIVO    7 non-null float64\n",
      "QTDFILMORT    6 non-null float64\n",
      "LINHAA        53354 non-null object\n",
      "LINHAB        37960 non-null object\n",
      "LINHAC        10436 non-null object\n",
      "LINHAD        4038 non-null object\n",
      "LINHAII       4520 non-null object\n",
      "ESC2010       39926 non-null float64\n",
      "ESCMAE2010    6 non-null float64\n",
      "dtypes: float64(11), int64(6), object(6)\n",
      "memory usage: 9.8+ MB\n"
     ]
    }
   ],
   "source": [
    "df_suicidio.info()"
   ]
  },
  {
   "cell_type": "code",
   "execution_count": 40,
   "metadata": {},
   "outputs": [],
   "source": [
    "# Visto que temos algumas colunas não preenchidas, iremos excluir elas\n",
    "df_suicidio = df_suicidio.drop(columns=['IDADEMAE', 'ESCMAE', 'OCUPMAE',\n",
    "                                        'QTDFILVIVO', 'QTDFILMORT'])"
   ]
  },
  {
   "cell_type": "code",
   "execution_count": 72,
   "metadata": {},
   "outputs": [],
   "source": [
    "estado_civil = {\n",
    "    1: 'Solteiro',\n",
    "    2: 'Casado',\n",
    "    3: 'Viúvo',\n",
    "    4: 'Separado',\n",
    "    5: 'União',\n",
    "    9: 'Ignorado'\n",
    "}\n",
    "\n",
    "sexo = {\n",
    "    0: 'Não informado',\n",
    "    1: 'Masculino',\n",
    "    2: 'Feminino',\n",
    "    9: 'Ignorado'\n",
    "}\n",
    "\n",
    "raca_cor = {\n",
    "    1: 'Branca',\n",
    "    2: 'Preta',\n",
    "    3: 'Amarela',\n",
    "    4: 'Parda',\n",
    "    5: 'Indígena'\n",
    "}\n",
    "\n",
    "cores = {\n",
    "    'M': ['#A9A9A9', '#000000', '#FF7F50', '#FFD700', '#FF8C00'],\n",
    "    'F': ['#C0C0C0', '#696969', '#FF6347', '#F0E68C', '#FFA500']\n",
    "}"
   ]
  },
  {
   "cell_type": "code",
   "execution_count": 44,
   "metadata": {},
   "outputs": [],
   "source": [
    "df_suicidio['ESTCIV_LABEL'] = df_suicidio['ESTCIV'].apply(lambda x: (estado_civil[x] if x in estado_civil.keys() else x))\n",
    "df_suicidio['SEXO_LABEL'] = df_suicidio['SEXO'].apply(lambda x: (sexo[x] if x in sexo.keys() else x))\n",
    "df_suicidio['RACACOR_LABEL'] = df_suicidio['RACACOR'].apply(lambda x: (raca_cor[x] if x in raca_cor.keys() else x))"
   ]
  },
  {
   "cell_type": "code",
   "execution_count": 92,
   "metadata": {},
   "outputs": [
    {
     "data": {
      "text/plain": [
       "[{'name': '(M) Branca',\n",
       "  'data': [9396, 6728, 824, 1773, 741],\n",
       "  'pointPadding': 0.4,\n",
       "  'pointPlacement': -0.3,\n",
       "  'color': '#A9A9A9'},\n",
       " {'name': '(M) Preta',\n",
       "  'data': [1511, 492, 68, 84, 143],\n",
       "  'pointPadding': 0.4,\n",
       "  'pointPlacement': -0.15,\n",
       "  'color': '#000000'},\n",
       " {'name': '(M) Amarela',\n",
       "  'data': [62, 61, 16, 10, 7],\n",
       "  'pointPadding': 0.4,\n",
       "  'pointPlacement': 0.0,\n",
       "  'color': '#FF7F50'},\n",
       " {'name': '(M) Parda',\n",
       "  'data': [10223, 3928, 386, 719, 1063],\n",
       "  'pointPadding': 0.4,\n",
       "  'pointPlacement': 0.15,\n",
       "  'color': '#FFD700'},\n",
       " {'name': '(M) Indígena',\n",
       "  'data': [280, 35, 3, 2, 48],\n",
       "  'pointPadding': 0.4,\n",
       "  'pointPlacement': 0.3,\n",
       "  'color': '#FF8C00'},\n",
       " {'name': '(F) Branca',\n",
       "  'data': [2470, 2098, 588, 762, 244],\n",
       "  'pointPadding': 0.45,\n",
       "  'pointPlacement': -0.3,\n",
       "  'color': '#C0C0C0'},\n",
       " {'name': '(F) Preta',\n",
       "  'data': [327, 123, 52, 28, 24],\n",
       "  'pointPadding': 0.45,\n",
       "  'pointPlacement': -0.15,\n",
       "  'color': '#696969'},\n",
       " {'name': '(F) Amarela',\n",
       "  'data': [26, 16, 17, 1, 3],\n",
       "  'pointPadding': 0.45,\n",
       "  'pointPlacement': 0.0,\n",
       "  'color': '#FF6347'},\n",
       " {'name': '(F) Parda',\n",
       "  'data': [2301, 1011, 244, 258, 297],\n",
       "  'pointPadding': 0.45,\n",
       "  'pointPlacement': 0.15,\n",
       "  'color': '#F0E68C'},\n",
       " {'name': '(F) Indígena',\n",
       "  'data': [112, 6, 4, 0, 19],\n",
       "  'pointPadding': 0.45,\n",
       "  'pointPlacement': 0.3,\n",
       "  'color': '#FFA500'}]"
      ]
     },
     "execution_count": 92,
     "metadata": {},
     "output_type": "execute_result"
    }
   ],
   "source": [
    "dict_chart1 = list()\n",
    "paddings = [0.4, 0.45]\n",
    "points = [-0.3, -0.15, 0.0, 0.15, 0.3]\n",
    "count = 0\n",
    "\n",
    "for sex in sexo.values():\n",
    "    for racacor in raca_cor.values():\n",
    "        if sex[0] in ['N', 'I']:\n",
    "            continue\n",
    "        \n",
    "        dict_data = dict()\n",
    "        dict_data[\"name\"] = \"({}) {}\".format(sex[0], racacor)\n",
    "        list_values = list()\n",
    "        \n",
    "        for estciv in estado_civil.values():\n",
    "            if estciv == 'Ignorado' :\n",
    "                continue\n",
    "                \n",
    "            list_values.append(df_suicidio[(df_suicidio.ESTCIV_LABEL == estciv)\n",
    "                                           & (df_suicidio.SEXO_LABEL == sex)\n",
    "                                           & (df_suicidio.RACACOR_LABEL == racacor)]['DTOBITO'].count())\n",
    "        \n",
    "        dict_data[\"data\"] = list_values\n",
    "        dict_data[\"pointPadding\"] = paddings[0 if sex[0] == 'M' else 1]\n",
    "        dict_data[\"pointPlacement\"] = points[count]\n",
    "        dict_data[\"color\"] = cores[sex[0]][count]\n",
    "        dict_chart1.append(dict_data)\n",
    "        \n",
    "        count += 1\n",
    "    count = 0\n",
    "\n",
    "dict_chart1"
   ]
  },
  {
   "cell_type": "code",
   "execution_count": 12,
   "metadata": {},
   "outputs": [],
   "source": [
    "df_chart1.to_json('data/chart1.json')"
   ]
  },
  {
   "cell_type": "markdown",
   "metadata": {},
   "source": [
    "Códigos do IBGE para cada Unidade Federal (UF):\n",
    "\n",
    "| Região       | Código | Unidade da Federação | UF |\n",
    "| ------------ | ------ | -------------------- | -- |\n",
    "| Norte        | 11     | Rondônia             | RO |\n",
    "|              | 12     | Acre                 | AC |\n",
    "|              | 13     | Amazonas             | AM |\n",
    "|              | 14     | Roraima              | RR |\n",
    "|              | 15     | Pará                 | PA |\n",
    "|              | 16     | Amapá                | AP |\n",
    "|              | 17     | Tocantins            | TO |\n",
    "| Nordeste     | 21     | Maranhão             | MA |\n",
    "|              | 22     | Piauí                | PI |\n",
    "|              | 23     | Ceará                | CE |\n",
    "|              | 24     | Rio Grande do Norte  | RN |\n",
    "|              | 25     | Paraíba              | PB |\n",
    "|              | 26     | Pernambuco           | PE |\n",
    "|              | 27     | Alagoas              | AL |\n",
    "|              | 28     | Sergipe              | SE |\n",
    "|              | 29     | Bahia                | BA |\n",
    "| Sudeste      | 31     | Minas Gerais         | MG |\n",
    "|              | 32     | Espírito Santo       | ES |\n",
    "|              | 33     | Rio de Janeiro       | RJ |\n",
    "|              | 35     | São Paulo            | SP |\n",
    "| Sul          | 41     | Paraná               | PR |\n",
    "|              | 42     | Santa Catarina       | SC |\n",
    "|              | 43     | Rio Grande do Sul    | RS |\n",
    "| Centro-Oeste | 50     | Mato Grosso do Sul   | MS |\n",
    "|              | 51     | Mato Grosso          | MT |\n",
    "|              | 52     | Goiás                | GO |\n",
    "|              | 53     | Distrito Federal     | DF |\n"
   ]
  },
  {
   "cell_type": "code",
   "execution_count": 5,
   "metadata": {},
   "outputs": [],
   "source": [
    "# Criamos uma coluna com o código da UF\n",
    "df_suicidio['UF'] = df_suicidio['CODMUNOCOR'].apply(lambda x: str(x)[0:2])\n",
    "\n",
    "# Criamos outra coluna com o ano da ocorrência\n",
    "df_suicidio['ANOOCOR'] = df_suicidio['DTOBITO'].apply(lambda x: str(x)[-4:])"
   ]
  },
  {
   "cell_type": "code",
   "execution_count": 25,
   "metadata": {},
   "outputs": [],
   "source": [
    "### Ocorrências por ano e UF\n",
    "df_ano_uf = df_suicidio.groupby(['ANOOCOR', 'UF'])['DTOBITO'].count()\n",
    "\n",
    "# Gera arquivo JSON\n",
    "with open('data/ano_uf.json', 'w') as json_file:\n",
    "    json_file.write( df_ano_uf.reset_index().to_json(orient='records') )\n",
    "    json_file.close()\n",
    "\n",
    "# Organiza direito o JSON\n",
    "json_organizado = dict()\n",
    "\n",
    "with open('data/ano_uf.json') as file:\n",
    "    json_data = json.load(file)\n",
    "    for dt in json_data:\n",
    "        if dt['ANOOCOR'] in json_organizado:\n",
    "            json_organizado[ dt['ANOOCOR'] ].update({ dt['UF'] : dt['DTOBITO'] })\n",
    "        else:\n",
    "            json_organizado.update({ dt['ANOOCOR'] : dict() })\n",
    "\n",
    "# Gera o arquivo JSON adequado\n",
    "with open('data/ano_uf.json', 'w') as file:\n",
    "    json.dump(json_organizado, file)"
   ]
  },
  {
   "cell_type": "code",
   "execution_count": 7,
   "metadata": {},
   "outputs": [],
   "source": [
    "### Pegar a quantidade de ocorrências por data\n",
    "datas_obito = dict()\n",
    "\n",
    "# Pego a quantidade de registros de cada data\n",
    "for dtobito in df_suicidio.DTOBITO:\n",
    "    if dtobito in datas_obito:\n",
    "        datas_obito[ dtobito ] += 1\n",
    "    else:\n",
    "        datas_obito[ dtobito ] = 1\n",
    "        \n",
    "# Modifico as chaves do dicionario\n",
    "for dtobito in df_suicidio.DTOBITO.unique():\n",
    "    dtobito = str(dtobito)\n",
    "    if len(dtobito) == 7:\n",
    "        new_dtobito = '-'.join([dtobito[3:], dtobito[1:3], ('0'+dtobito[0])])\n",
    "    else:\n",
    "        new_dtobito = '-'.join([dtobito[4:], dtobito[2:4], dtobito[0:2]])\n",
    "        \n",
    "    datas_obito[new_dtobito] = datas_obito.pop(int(dtobito))\n",
    "\n",
    "# Exportar para CSV\n",
    "with open('data/ocor_data.csv', 'w') as csv_file:\n",
    "    writer = csv.writer(csv_file)\n",
    "    writer.writerow(['date', 'ocor'])\n",
    "    for key, value in datas_obito.items():\n",
    "        writer.writerow([str(key), str(value)])"
   ]
  },
  {
   "cell_type": "markdown",
   "metadata": {},
   "source": [
    "Para análisar os suicídios em feriados, escolhemos 8 feriados:\n",
    "\n",
    "| Data (m-d) | Feriado |\n",
    "| ----------:|:------- |\n",
    "|    01-01   | Confraternização Universal |\n",
    "|    04-21   | Tiradentes |\n",
    "|    05-01   | Dia do Trabalhador |\n",
    "|    09-07   | Dia da Pátria |\n",
    "|    10-12   | Nossa Senhora Aparecida |\n",
    "|    11-02   | Finados |\n",
    "|    11-15   | Proclamação da República |\n",
    "|    12-25   | Natal |"
   ]
  },
  {
   "cell_type": "code",
   "execution_count": 51,
   "metadata": {},
   "outputs": [],
   "source": [
    "### Suicídios nos feriados\n",
    "feriados = ['01-01', '04-21', '05-01', '09-07', '10-12', '11-02', '11-15', '12-25']\n",
    "feriados"
   ]
  },
  {
   "cell_type": "code",
   "execution_count": null,
   "metadata": {},
   "outputs": [],
   "source": []
  }
 ],
 "metadata": {
  "kernelspec": {
   "display_name": "Python 3",
   "language": "python",
   "name": "python3"
  },
  "language_info": {
   "codemirror_mode": {
    "name": "ipython",
    "version": 3
   },
   "file_extension": ".py",
   "mimetype": "text/x-python",
   "name": "python",
   "nbconvert_exporter": "python",
   "pygments_lexer": "ipython3",
   "version": "3.6.5"
  }
 },
 "nbformat": 4,
 "nbformat_minor": 2
}
