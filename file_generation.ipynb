{
 "cells": [
  {
   "cell_type": "markdown",
   "metadata": {},
   "source": [
    "# Gerar arquivo CSV\n",
    "Essa seção diz respeito ao procedimento de pegar todos os arquivos *DBC* e gerar apenas um único arquivo *CSV*, a fim de facilitar a manipulação dos dados posteriormente.\n",
    "\n",
    "## Sumário\n",
    "- [Dependências](#dependencias)\n",
    "  - [Instalação](#instalacao)\n",
    "  - [Importação](#importacao)\n",
    "- [Programação](#programação)\n",
    "  - [Filtragem](#filtragem)\n",
    "    - [Por ano](#por_ano)\n",
    "    - [Por CIDs](#por_cid)\n",
    "  \n",
    "## <a id=\"dependencias\">Dependências</a>\n",
    "### <a id=\"instalacao\">Instalação</a>\n",
    "-  **danicat/read.dbc**: é um pacote que importa dados de um *DBC* (compressão de *DBF*) para data frames."
   ]
  },
  {
   "cell_type": "code",
   "execution_count": null,
   "metadata": {
    "collapsed": true
   },
   "outputs": [],
   "source": [
    "devtools::install_github(\"danicat/read.dbc\")"
   ]
  },
  {
   "cell_type": "markdown",
   "metadata": {},
   "source": [
    "### <a id=\"importacao\">Importação</a>\n",
    "-  **read.dbc**: usamos para ler os arquivos *DBC*;\n",
    "-  **plyr**: usamos a função *rbind.fill* para juntar dataframes de diferentes tamanhos. Ele inclui, por padrão, NA como valor nas colunas inseridas entre um dataframe e outro."
   ]
  },
  {
   "cell_type": "code",
   "execution_count": 1,
   "metadata": {},
   "outputs": [],
   "source": [
    "library('read.dbc')\n",
    "library(plyr)\n",
    "library(readr)"
   ]
  },
  {
   "cell_type": "markdown",
   "metadata": {},
   "source": [
    "### <a id=\"programacao\">Programação</a>\n",
    "Nessa seção, nossa intenção é filtrar os dados presentes nos *DBC* para apenas os que iremos utilizar, que são:\n",
    "\n",
    "| Coluna | Descrição     |\n",
    "| ------:|:------------- |\n",
    "| DTOBITO | Data do óbito (dd mm aaaa) |\n",
    "| DTNASC | Data do nascimento (dd mm aaaa) |\n",
    "| SEXO | Sexo |\n",
    "| RACACOR | Raça |\n",
    "| ESTCIV | Situação conjugal |\n",
    "| OCUP | Ocupação habitual e ramo de atividade |\n",
    "| CODMUNRES | Código do município de residência |\n",
    "| LOCOCOR | Local de ocorrência do óbito |\n",
    "| CODMUNOCOR | Código do município de ocorrência |\n",
    "| IDADEMAE | Idade da mãe |\n",
    "| ESCMAE | Escolaridade em anos da mãe |\n",
    "| OCUPMAE | Ocupação da mãe |\n",
    "| QTDFILVIVO | Número de filhos vivos |\n",
    "| QTDFILMORT | Número de filhos mortos |\n",
    "| GRAVIDEZ | Informa o tipo de gravidez |\n",
    "| GESTACAO | Faixa de semanas da gestação |\n",
    "| CAUSABAS | Causa básica da DO |\n",
    "| LINHAA | CIDs informados na Linha A da DO |\n",
    "| LINHAB | CIDs informados na Linha B da DO |\n",
    "| LINHAC | CIDs informados na Linha C da DO |\n",
    "| LINHAD | CIDs informados na Linha D da DO |\n",
    "| LINHAII | CIDs informados na Linha II da DO |\n",
    "| CIRCOBITO | Indicar qual foi a provável circunstância de morte não natural |\n",
    "| FONTE | Indicar a fonte da informação, conforme a tabela |"
   ]
  },
  {
   "cell_type": "code",
   "execution_count": 2,
   "metadata": {},
   "outputs": [],
   "source": [
    "# Contém o caminho até a pasta que contêm os arquivos gerais que iremos usar\n",
    "files_path <- paste(getwd(), 'files', sep='/')\n",
    "# Contém o caminho até a pasta que contêm os arquivos DBC que serão tratados\n",
    "dores_path <- paste(files_path, 'dores', sep='/')\n",
    "# Contém o caminho até a pasta que contêm os arquivos CSV com os registros de cada ano\n",
    "anos_path <- paste(files_path, 'ano', sep='/')\n",
    "# Contém o caminho até a pasta que contêm os arquivos CSV finais\n",
    "data_path <- paste(getwd(), 'data', sep='/')\n",
    "# Contém um vetor com as colunas que queremos filtrar\n",
    "cols_name <- c(\"DTOBITO\",\"DTNASC\",\"SEXO\",\"RACACOR\",\"ESTCIV\",\"OCUP\",\n",
    "              \"CODMUNRES\",\"LOCOCOR\",\"CODMUNOCOR\",\"IDADEMAE\",\"ESCMAE\",\"OCUPMAE\",\n",
    "              \"QTDFILVIVO\",\"QTDFILMORT\",\"GRAVIDEZ\",\"GESTACAO\",\"CAUSABAS\",\"LINHAA\",\n",
    "              \"LINHAB\",\"LINHAC\",\"LINHAD\",\"LINHAII\",\"CIRCOBITO\",\"FONTE\")\n",
    "# Contém os CIDs referentes a suicídio\n",
    "cids <- c( paste('X', 60:84, sep='') )"
   ]
  },
  {
   "cell_type": "markdown",
   "metadata": {},
   "source": [
    "### <a id=\"filtragem\">Filtragem</a>\n",
    "Aqui iremos filtrar os arquivos *DBC*, de forma que, ao final, iremos gerar um arquivo *CSV* para cada ano (2011 a 2015) e, após, um arquivo com os dados de suicídios que ocorreram nesses mesmos anos.\n",
    "\n",
    "#### <a id=\"por_ano\">Por ano</a>\n",
    "Primeiro iremos filtrar os arquivos *DBC* pelo ano. Ao final, iremos gerar um arquivo *CSV* para cada ano."
   ]
  },
  {
   "cell_type": "code",
   "execution_count": 7,
   "metadata": {},
   "outputs": [
    {
     "name": "stdout",
     "output_type": "stream",
     "text": [
      "  |======================================================================| 100%"
     ]
    }
   ],
   "source": [
    "for (ano in 2011:2015) {\n",
    "    ano <- paste(ano, '', sep='')\n",
    "    filestrsave <- paste(anos_path, paste(ano, '.csv', sep=''), sep='/')\n",
    "    \n",
    "    # Listando os arquivos\n",
    "    listoffiles <- list.files(dores_path, full.names=TRUE, pattern=ano)\n",
    "\n",
    "    # Contador e barra de progresso, respectivamente\n",
    "    i_count <- 0\n",
    "    pb <- txtProgressBar(min=0, max=length(listoffiles), style=3)\n",
    "\n",
    "    # Abrindo os arquivos\n",
    "    mydata <- lapply(listoffiles, function (file) {\n",
    "        # Pegamos o arquivo, transformamos ele em list\n",
    "        data_dbc <- read.dbc(file)\n",
    "        # Avançamos no contador, ou seja, na barra de progresso\n",
    "        i_count <<- i_count + 1\n",
    "        setTxtProgressBar(pb, i_count)\n",
    "\n",
    "        return(data_dbc)\n",
    "    })\n",
    "    \n",
    "    # Unificando todos os arquivos em um só\n",
    "    result <- do.call(rbind.fill, mydata)\n",
    "\n",
    "    # Salvando o arquivo reduzido\n",
    "    write.csv2(result, filestrsave, row.names=FALSE)\n",
    "\n",
    "    gc()\n",
    "}"
   ]
  },
  {
   "cell_type": "markdown",
   "metadata": {},
   "source": [
    "#### <a id=\"por_cid\">Por CIDs</a>\n",
    "Após gerarmos os arquivos de cada ano, iremos juntar todos os arquivos em um só, porém apenas com as ocorrências referentes a suicídio.\n",
    "\n",
    "##### X60-X84 Lesões autoprovocadas intencionalmente\n",
    "\n",
    "-  **X60**: Auto-intoxicação por e exposição, intencional, a analgésicos, antipiréticos e anti-reumáticos, não-opiáceos\n",
    "-  **X61**: Auto-intoxicação por e exposição, intencional, a drogas anticonvulsivantes [antiepilépticos] sedativos, hipnóticos, antiparkinsonianos e psicotrópicos não classificados em outra parte\n",
    "-  **X62**: Auto-intoxicação por e exposição, intencional, a narcóticos e psicodislépticos [alucinógenos] não classificados em outra parte\n",
    "-  **X63**: Auto-intoxicação por e exposição, intencional, a outras substâncias farmacológicas de ação sobre o sistema nervoso autônomo\n",
    "-  **X64**: Auto-intoxicação por e exposição, intencional, a outras drogas, medicamentos e substâncias biológicas e às não especificadas\n",
    "-  **X65**: Auto-intoxicação voluntária por álcool\n",
    "-  **X66**: Auto-intoxicação intencional por solventes orgânicos, hidrocarbonetos halogenados e seus vapores\n",
    "-  **X67**: Auto-intoxicação intencional por outros gases e vapores\n",
    "-  **X68**: Auto-intoxicação por e exposição, intencional, a pesticidas\n",
    "-  **X69**: Auto-intoxicação por e exposição, intencional, a outros produtos químicos e substâncias nocivas não especificadas\n",
    "-  **X70**: Lesão autoprovocada intencionalmente por enforcamento, estrangulamento e sufocação\n",
    "-  **X71**: Lesão autoprovocada intencionalmente por afogamento e submersão\n",
    "-  **X72**: Lesão autoprovocada intencionalmente por disparo de arma de fogo de mão\n",
    "-  **X73**: Lesão autoprovocada intencionalmente por disparo de espingarda, carabina, ou arma de fogo de maior calibre\n",
    "-  **X74**: Lesão autoprovocada intencionalmente por disparo de outra arma de fogo e de arma de fogo não especificada\n",
    "-  **X75**: Lesão autoprovocada intencionalmente por dispositivos explosivos\n",
    "-  **X76**: Lesão autoprovocada intencionalmente pela fumaça, pelo fogo e por chamas\n",
    "-  **X77**: Lesão autoprovocada intencionalmente por vapor de água, gases ou objetos quentes\n",
    "-  **X78**: Lesão autoprovocada intencionalmente por objeto cortante ou penetrante\n",
    "-  **X79**: Lesão autoprovocada intencionalmente por objeto contundente\n",
    "-  **X80**: Lesão autoprovocada intencionalmente por precipitação de um lugar elevado\n",
    "-  **X81**: Lesão autoprovocada intencionalmente por precipitação ou permanência diante de um objeto em movimento\n",
    "-  **X82**: Lesão autoprovocada intencionalmente por impacto de um veículo a motor\n",
    "-  **X83**: Lesão autoprovocada intencionalmente por outros meios especificados\n",
    "-  **X84**: Lesão autoprovocada intencionalmente por meios não especificados\n",
    "\n",
    "Site detalhado: [DATASUS X60-X84](http://www.datasus.gov.br/cid10/V2008/WebHelp/x60_x84.htm)."
   ]
  },
  {
   "cell_type": "code",
   "execution_count": 9,
   "metadata": {},
   "outputs": [
    {
     "name": "stdout",
     "output_type": "stream",
     "text": [
      "  |======================================================================| 100%"
     ]
    },
    {
     "data": {
      "text/html": [
       "<table>\n",
       "<thead><tr><th></th><th scope=col>used</th><th scope=col>(Mb)</th><th scope=col>gc trigger</th><th scope=col>(Mb)</th><th scope=col>max used</th><th scope=col>(Mb)</th></tr></thead>\n",
       "<tbody>\n",
       "\t<tr><th scope=row>Ncells</th><td> 793554  </td><td>42.4     </td><td>  6334348</td><td> 338.3   </td><td>  5553649</td><td> 296.6   </td></tr>\n",
       "\t<tr><th scope=row>Vcells</th><td>7829136  </td><td>59.8     </td><td>396031505</td><td>3021.5   </td><td>494971429</td><td>3776.4   </td></tr>\n",
       "</tbody>\n",
       "</table>\n"
      ],
      "text/latex": [
       "\\begin{tabular}{r|llllll}\n",
       "  & used & (Mb) & gc trigger & (Mb) & max used & (Mb)\\\\\n",
       "\\hline\n",
       "\tNcells &  793554   & 42.4      &   6334348 &  338.3    &   5553649 &  296.6   \\\\\n",
       "\tVcells & 7829136   & 59.8      & 396031505 & 3021.5    & 494971429 & 3776.4   \\\\\n",
       "\\end{tabular}\n"
      ],
      "text/markdown": [
       "\n",
       "| <!--/--> | used | (Mb) | gc trigger | (Mb) | max used | (Mb) | \n",
       "|---|---|\n",
       "| Ncells |  793554   | 42.4      |   6334348 |  338.3    |   5553649 |  296.6    | \n",
       "| Vcells | 7829136   | 59.8      | 396031505 | 3021.5    | 494971429 | 3776.4    | \n",
       "\n",
       "\n"
      ],
      "text/plain": [
       "       used    (Mb) gc trigger (Mb)   max used  (Mb)  \n",
       "Ncells  793554 42.4   6334348   338.3   5553649  296.6\n",
       "Vcells 7829136 59.8 396031505  3021.5 494971429 3776.4"
      ]
     },
     "metadata": {},
     "output_type": "display_data"
    }
   ],
   "source": [
    "filestrsave <- paste(data_path, paste('suicidios', '.csv', sep=''), sep='/')\n",
    "\n",
    "# Listando os arquivos\n",
    "listoffiles <- list.files(anos_path, full.names=TRUE)\n",
    "\n",
    "# Contador e barra de progresso, respectivamente\n",
    "i_count <- 0\n",
    "pb <- txtProgressBar(min=0, max=length(listoffiles), style=3)\n",
    "\n",
    "# Abrindo os arquivos\n",
    "mydata <- lapply(listoffiles, function (file) {\n",
    "    # Pegamos o arquivo, transformamos ele em list\n",
    "    data_csv <- read.csv(file, header=TRUE, sep=';')\n",
    "    # Pegamos apenas as ocorrências de CIDs que queremos\n",
    "    data_csv <- subset(data_csv, grepl(paste(cids, collapse='|'), CAUSABAS), select=col_info)\n",
    "    # Avançamos no contador, ou seja, na barra de progresso\n",
    "    i_count <<- i_count + 1\n",
    "    setTxtProgressBar(pb, i_count)\n",
    "\n",
    "    return(data_csv)\n",
    "})\n",
    "\n",
    "# Unificando todos os arquivos em um só\n",
    "result <- do.call(rbind.fill, mydata)\n",
    "\n",
    "# Salvando o arquivo reduzido\n",
    "write.csv2(result, filestrsave, row.names=FALSE)\n",
    "\n",
    "gc()"
   ]
  },
  {
   "cell_type": "code",
   "execution_count": null,
   "metadata": {},
   "outputs": [],
   "source": []
  }
 ],
 "metadata": {
  "kernelspec": {
   "display_name": "R",
   "language": "R",
   "name": "ir"
  },
  "language_info": {
   "codemirror_mode": "r",
   "file_extension": ".r",
   "mimetype": "text/x-r-source",
   "name": "R",
   "pygments_lexer": "r",
   "version": "3.4.3"
  }
 },
 "nbformat": 4,
 "nbformat_minor": 2
}
