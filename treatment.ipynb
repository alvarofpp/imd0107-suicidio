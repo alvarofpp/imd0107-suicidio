{
 "cells": [
  {
   "cell_type": "markdown",
   "metadata": {},
   "source": [
    "# Data treatment\n",
    "Nessa seção, iremos filtrar os dados do arquivo CSV que geramos anteriormente em apenas os CIDs correspondentes a suicídio.\n"
   ]
  },
  {
   "cell_type": "code",
   "execution_count": 1,
   "metadata": {},
   "outputs": [],
   "source": [
    "# Imports\n",
    "import csv\n",
    "import json\n",
    "import pandas as pd"
   ]
  },
  {
   "cell_type": "code",
   "execution_count": 2,
   "metadata": {},
   "outputs": [],
   "source": [
    "# Dataset com os dados de suicídio de 2011 a 2015\n",
    "df_suicidio = pd.read_csv('data/suicidios.csv', sep=';')"
   ]
  },
  {
   "cell_type": "code",
   "execution_count": 3,
   "metadata": {},
   "outputs": [
    {
     "name": "stdout",
     "output_type": "stream",
     "text": [
      "<class 'pandas.core.frame.DataFrame'>\n",
      "RangeIndex: 52537 entries, 0 to 52536\n",
      "Data columns (total 24 columns):\n",
      "DTOBITO       52537 non-null int64\n",
      "DTNASC        52251 non-null float64\n",
      "SEXO          52537 non-null int64\n",
      "RACACOR       50640 non-null float64\n",
      "ESTCIV        50658 non-null float64\n",
      "OCUP          39613 non-null float64\n",
      "CODMUNRES     52537 non-null int64\n",
      "LOCOCOR       52537 non-null int64\n",
      "CODMUNOCOR    52537 non-null int64\n",
      "IDADEMAE      0 non-null float64\n",
      "ESCMAE        0 non-null float64\n",
      "OCUPMAE       0 non-null float64\n",
      "QTDFILVIVO    0 non-null float64\n",
      "QTDFILMORT    0 non-null float64\n",
      "GRAVIDEZ      0 non-null float64\n",
      "GESTACAO      0 non-null float64\n",
      "CAUSABAS      52537 non-null object\n",
      "LINHAA        50391 non-null object\n",
      "LINHAB        35987 non-null object\n",
      "LINHAC        9297 non-null object\n",
      "LINHAD        3505 non-null object\n",
      "LINHAII       3842 non-null object\n",
      "CIRCOBITO     52497 non-null float64\n",
      "FONTE         44806 non-null float64\n",
      "dtypes: float64(13), int64(5), object(6)\n",
      "memory usage: 9.6+ MB\n"
     ]
    }
   ],
   "source": [
    "df_suicidio.info()"
   ]
  },
  {
   "cell_type": "code",
   "execution_count": 4,
   "metadata": {},
   "outputs": [],
   "source": [
    "# Visto que temos algumas colunas não preenchidas, iremos excluir elas\n",
    "df_suicidio = df_suicidio.drop(columns=['IDADEMAE', 'ESCMAE', 'OCUPMAE',\n",
    "                                        'QTDFILVIVO', 'QTDFILMORT', 'GRAVIDEZ', 'GESTACAO'])"
   ]
  },
  {
   "cell_type": "markdown",
   "metadata": {},
   "source": [
    "Códigos do IBGE para cada Unidade Federal (UF):\n",
    "\n",
    "| Região       | Código | Unidade da Federação | UF |\n",
    "| ------------ | ------ | -------------------- | -- |\n",
    "| Norte        | 11     | Rondônia             | RO |\n",
    "|              | 12     | Acre                 | AC |\n",
    "|              | 13     | Amazonas             | AM |\n",
    "|              | 14     | Roraima              | RR |\n",
    "|              | 15     | Pará                 | PA |\n",
    "|              | 16     | Amapá                | AP |\n",
    "|              | 17     | Tocantins            | TO |\n",
    "| Nordeste     | 21     | Maranhão             | MA |\n",
    "|              | 22     | Piauí                | PI |\n",
    "|              | 23     | Ceará                | CE |\n",
    "|              | 24     | Rio Grande do Norte  | RN |\n",
    "|              | 25     | Paraíba              | PB |\n",
    "|              | 26     | Pernambuco           | PE |\n",
    "|              | 27     | Alagoas              | AL |\n",
    "|              | 28     | Sergipe              | SE |\n",
    "|              | 29     | Bahia                | BA |\n",
    "| Sudeste      | 31     | Minas Gerais         | MG |\n",
    "|              | 32     | Espírito Santo       | ES |\n",
    "|              | 33     | Rio de Janeiro       | RJ |\n",
    "|              | 35     | São Paulo            | SP |\n",
    "| Sul          | 41     | Paraná               | PR |\n",
    "|              | 42     | Santa Catarina       | SC |\n",
    "|              | 43     | Rio Grande do Sul    | RS |\n",
    "| Centro-Oeste | 50     | Mato Grosso do Sul   | MS |\n",
    "|              | 51     | Mato Grosso          | MT |\n",
    "|              | 52     | Goiás                | GO |\n",
    "|              | 53     | Distrito Federal     | DF |\n"
   ]
  },
  {
   "cell_type": "code",
   "execution_count": 60,
   "metadata": {},
   "outputs": [],
   "source": [
    "### Ocorrências por ano e UF\n",
    "ano_uf = {\n",
    "    2011: 0,\n",
    "    2012: 0,\n",
    "    2013: 0,\n",
    "    2014: 0,\n",
    "    2015: 0\n",
    "}\n",
    "\n",
    "ufs = df_suicidio.CODMUNOCOR.apply(lambda x: str(x)[0:2]).unique()\n",
    "\n",
    "for ano in range(2011, 2016):\n",
    "    df_suicidio.CODMUNOCOR.apply(lambda x: str(x)[0:2]).unique()"
   ]
  },
  {
   "cell_type": "code",
   "execution_count": 49,
   "metadata": {},
   "outputs": [],
   "source": [
    "### Pegar a quantidade de ocorrências por data\n",
    "datas_obito = dict()\n",
    "\n",
    "# Pego a quantidade de registros de cada data\n",
    "for dtobito in df_suicidio.DTOBITO:\n",
    "    if dtobito in datas_obito:\n",
    "        datas_obito[ dtobito ] += 1\n",
    "    else:\n",
    "        datas_obito[ dtobito ] = 1\n",
    "        \n",
    "# Modifico as chaves do dicionario\n",
    "for dtobito in df_suicidio.DTOBITO.unique():\n",
    "    dtobito = str(dtobito)\n",
    "    if len(dtobito) == 7:\n",
    "        new_dtobito = '-'.join([dtobito[3:], dtobito[1:3], ('0'+dtobito[0])])\n",
    "    else:\n",
    "        new_dtobito = '-'.join([dtobito[4:], dtobito[2:4], dtobito[0:2]])\n",
    "        \n",
    "    datas_obito[new_dtobito] = datas_obito.pop(int(dtobito))\n",
    "\n",
    "# Exportar para CSV\n",
    "with open('data/ocor_data.csv', 'w') as csv_file:\n",
    "    writer = csv.writer(csv_file)\n",
    "    writer.writerow(['date', 'ocor'])\n",
    "    for key, value in datas_obito.items():\n",
    "        writer.writerow([str(key), str(value)])"
   ]
  },
  {
   "cell_type": "markdown",
   "metadata": {},
   "source": [
    "Para análisar os suicídios em feriados, escolhemos 8 feriados:\n",
    "\n",
    "| Data (m-d) | Feriado |\n",
    "| ----------:|:------- |\n",
    "|    01-01   | Confraternização Universal |\n",
    "|    04-21   | Tiradentes |\n",
    "|    05-01   | Dia do Trabalhador |\n",
    "|    09-07   | Dia da Pátria |\n",
    "|    10-12   | Nossa Senhora Aparecida |\n",
    "|    11-02   | Finados |\n",
    "|    11-15   | Proclamação da República |\n",
    "|    12-25   | Natal |"
   ]
  },
  {
   "cell_type": "code",
   "execution_count": 51,
   "metadata": {},
   "outputs": [],
   "source": [
    "### Suicídios nos feriados\n",
    "feriados = ['01-01', '04-21', '05-01', '09-07', '10-12', '11-02', '11-15', '12-25']\n",
    "feriados"
   ]
  },
  {
   "cell_type": "code",
   "execution_count": null,
   "metadata": {},
   "outputs": [],
   "source": []
  }
 ],
 "metadata": {
  "kernelspec": {
   "display_name": "Python 3",
   "language": "python",
   "name": "python3"
  },
  "language_info": {
   "codemirror_mode": {
    "name": "ipython",
    "version": 3
   },
   "file_extension": ".py",
   "mimetype": "text/x-python",
   "name": "python",
   "nbconvert_exporter": "python",
   "pygments_lexer": "ipython3",
   "version": "3.6.5"
  }
 },
 "nbformat": 4,
 "nbformat_minor": 2
}
